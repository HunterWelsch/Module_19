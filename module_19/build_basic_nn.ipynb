{
 "cells": [
  {
   "cell_type": "code",
   "execution_count": 2,
   "metadata": {},
   "outputs": [],
   "source": [
    "# Import our dependencies\n",
    "import pandas as pd\n",
    "import matplotlib as plt\n",
    "from sklearn.datasets import make_blobs\n",
    "import sklearn as skl\n",
    "import tensorflow as tf"
   ]
  },
  {
   "cell_type": "code",
   "execution_count": 3,
   "metadata": {},
   "outputs": [
    {
     "data": {
      "text/plain": [
       "<matplotlib.axes._subplots.AxesSubplot at 0x1a480b8a50>"
      ]
     },
     "execution_count": 3,
     "metadata": {},
     "output_type": "execute_result"
    },
    {
     "data": {
      "image/png": "[encoded data removed]",
      "text/plain": [
       "<Figure size 432x288 with 2 Axes>"
      ]
     },
     "metadata": {
      "needs_background": "light"
     },
     "output_type": "display_data"
    }
   ],
   "source": [
    "# Generate dummy dataset\n",
    "X, y = make_blobs(n_samples=1000, centers=2, n_features=2, random_state=78)\n",
    "\n",
    "# Creating a DataFrame with the dummy data\n",
    "df = pd.DataFrame(X, columns=[\"Feature 1\", \"Feature 2\"])\n",
    "df[\"Target\"] = y\n",
    "\n",
    "# Plotting the dummy data\n",
    "df.plot.scatter(x=\"Feature 1\", y=\"Feature 2\", c=\"Target\", colormap=\"winter\")"
   ]
  },
  {
   "cell_type": "code",
   "execution_count": 4,
   "metadata": {},
   "outputs": [],
   "source": [
    "# Use sklearn to split dataset\n",
    "from sklearn.model_selection import train_test_split\n",
    "X_train, X_test, y_train, y_test = train_test_split(X, y, random_state=78)"
   ]
  },
  {
   "cell_type": "code",
   "execution_count": 5,
   "metadata": {},
   "outputs": [],
   "source": [
    "# Create scaler instance\n",
    "X_scaler = skl.preprocessing.StandardScaler()\n",
    "\n",
    "# Fit the scaler\n",
    "X_scaler.fit(X_train)\n",
    "\n",
    "# Scale the data\n",
    "X_train_scaled = X_scaler.transform(X_train)\n",
    "X_test_scaled = X_scaler.transform(X_test)"
   ]
  },
  {
   "cell_type": "code",
   "execution_count": 6,
   "metadata": {},
   "outputs": [],
   "source": [
    "# Create the Keras Sequential model\n",
    "nn_model = tf.keras.models.Sequential()"
   ]
  },
  {
   "cell_type": "code",
   "execution_count": 7,
   "metadata": {},
   "outputs": [],
   "source": [
    "# Add our first Dense layer, including the input layer\n",
    "nn_model.add(tf.keras.layers.Dense(units=1, activation=\"relu\", input_dim=2))"
   ]
  },
  {
   "cell_type": "code",
   "execution_count": 8,
   "metadata": {},
   "outputs": [],
   "source": [
    "# Add the output layer that uses a probability activation function\n",
    "nn_model.add(tf.keras.layers.Dense(units=1, activation=\"sigmoid\"))"
   ]
  },
  {
   "cell_type": "code",
   "execution_count": 9,
   "metadata": {},
   "outputs": [
    {
     "name": "stdout",
     "output_type": "stream",
     "text": [
      "Model: \"sequential\"\n",
      "_________________________________________________________________\n",
      "Layer (type)                 Output Shape              Param #   \n",
      "=================================================================\n",
      "dense (Dense)                (None, 1)                 3         \n",
      "_________________________________________________________________\n",
      "dense_1 (Dense)              (None, 1)                 2         \n",
      "=================================================================\n",
      "Total params: 5\n",
      "Trainable params: 5\n",
      "Non-trainable params: 0\n",
      "_________________________________________________________________\n"
     ]
    }
   ],
   "source": [
    "# Check the structure of the Sequential model\n",
    "nn_model.summary()"
   ]
  },
  {
   "cell_type": "code",
   "execution_count": 10,
   "metadata": {},
   "outputs": [],
   "source": [
    "# Compile the Sequential model together and customize metrics\n",
    "nn_model.compile(loss=\"binary_crossentropy\", optimizer=\"adam\", metrics=[\"accuracy\"])"
   ]
  },
  {
   "cell_type": "code",
   "execution_count": 11,
   "metadata": {},
   "outputs": [
    {
     "name": "stdout",
     "output_type": "stream",
     "text": [
      "Train on 750 samples\n",
      "Epoch 1/100\n",
      "750/750 [==============================] - 2s 2ms/sample - loss: 0.5448 - accuracy: 0.9733\n",
      "Epoch 2/100\n",
      "750/750 [==============================] - 0s 101us/sample - loss: 0.5325 - accuracy: 1.0000\n",
      "Epoch 3/100\n",
      "750/750 [==============================] - 0s 107us/sample - loss: 0.5201 - accuracy: 1.0000\n",
      "Epoch 4/100\n",
      "750/750 [==============================] - 0s 113us/sample - loss: 0.5076 - accuracy: 1.0000\n",
      "Epoch 5/100\n",
      "750/750 [==============================] - 0s 111us/sample - loss: 0.4949 - accuracy: 1.0000\n",
      "Epoch 6/100\n",
      "750/750 [==============================] - 0s 101us/sample - loss: 0.4822 - accuracy: 1.0000\n",
      "Epoch 7/100\n",
      "750/750 [==============================] - 0s 96us/sample - loss: 0.4697 - accuracy: 1.0000\n",
      "Epoch 8/100\n",
      "750/750 [==============================] - 0s 195us/sample - loss: 0.4572 - accuracy: 1.0000\n",
      "Epoch 9/100\n",
      "750/750 [==============================] - 0s 111us/sample - loss: 0.4449 - accuracy: 1.0000\n",
      "Epoch 10/100\n",
      "750/750 [==============================] - 0s 91us/sample - loss: 0.4328 - accuracy: 1.0000\n",
      "Epoch 11/100\n",
      "750/750 [==============================] - 0s 85us/sample - loss: 0.4210 - accuracy: 1.0000\n",
      "Epoch 12/100\n",
      "750/750 [==============================] - 0s 84us/sample - loss: 0.4094 - accuracy: 1.0000\n",
      "Epoch 13/100\n",
      "750/750 [==============================] - 0s 87us/sample - loss: 0.3981 - accuracy: 1.0000\n",
      "Epoch 14/100\n",
      "750/750 [==============================] - 0s 82us/sample - loss: 0.3872 - accuracy: 1.0000\n",
      "Epoch 15/100\n",
      "750/750 [==============================] - 0s 89us/sample - loss: 0.3765 - accuracy: 1.0000\n",
      "Epoch 16/100\n",
      "750/750 [==============================] - 0s 94us/sample - loss: 0.3662 - accuracy: 1.0000\n",
      "Epoch 17/100\n",
      "750/750 [==============================] - 0s 133us/sample - loss: 0.3563 - accuracy: 1.0000\n",
      "Epoch 18/100\n",
      "750/750 [==============================] - 0s 120us/sample - loss: 0.3467 - accuracy: 1.0000\n",
      "Epoch 19/100\n",
      "750/750 [==============================] - 0s 104us/sample - loss: 0.3374 - accuracy: 1.0000\n",
      "Epoch 20/100\n",
      "750/750 [==============================] - 0s 112us/sample - loss: 0.3284 - accuracy: 1.0000\n",
      "Epoch 21/100\n",
      "750/750 [==============================] - 0s 111us/sample - loss: 0.3197 - accuracy: 1.0000\n",
      "Epoch 22/100\n",
      "750/750 [==============================] - 0s 85us/sample - loss: 0.3114 - accuracy: 1.0000\n",
      "Epoch 23/100\n",
      "750/750 [==============================] - 0s 83us/sample - loss: 0.3033 - accuracy: 1.0000\n",
      "Epoch 24/100\n",
      "750/750 [==============================] - 0s 86us/sample - loss: 0.2956 - accuracy: 1.0000\n",
      "Epoch 25/100\n",
      "750/750 [==============================] - 0s 92us/sample - loss: 0.2881 - accuracy: 1.0000\n",
      "Epoch 26/100\n",
      "750/750 [==============================] - 0s 94us/sample - loss: 0.2809 - accuracy: 1.0000\n",
      "Epoch 27/100\n",
      "750/750 [==============================] - 0s 93us/sample - loss: 0.2739 - accuracy: 1.0000\n",
      "Epoch 28/100\n",
      "750/750 [==============================] - 0s 103us/sample - loss: 0.2672 - accuracy: 1.0000\n",
      "Epoch 29/100\n",
      "750/750 [==============================] - 0s 130us/sample - loss: 0.2607 - accuracy: 1.0000\n",
      "Epoch 30/100\n",
      "750/750 [==============================] - 0s 112us/sample - loss: 0.2544 - accuracy: 1.0000\n",
      "Epoch 31/100\n",
      "750/750 [==============================] - 0s 100us/sample - loss: 0.2484 - accuracy: 1.0000\n",
      "Epoch 32/100\n",
      "750/750 [==============================] - 0s 100us/sample - loss: 0.2425 - accuracy: 1.0000\n",
      "Epoch 33/100\n",
      "750/750 [==============================] - 0s 99us/sample - loss: 0.2369 - accuracy: 1.0000\n",
      "Epoch 34/100\n",
      "750/750 [==============================] - 0s 103us/sample - loss: 0.2314 - accuracy: 1.0000\n",
      "Epoch 35/100\n",
      "750/750 [==============================] - 0s 102us/sample - loss: 0.2262 - accuracy: 1.0000\n",
      "Epoch 36/100\n",
      "750/750 [==============================] - 0s 92us/sample - loss: 0.2210 - accuracy: 1.0000\n",
      "Epoch 37/100\n",
      "750/750 [==============================] - 0s 112us/sample - loss: 0.2161 - accuracy: 1.0000\n",
      "Epoch 38/100\n",
      "750/750 [==============================] - 0s 109us/sample - loss: 0.2113 - accuracy: 1.0000\n",
      "Epoch 39/100\n",
      "750/750 [==============================] - 0s 96us/sample - loss: 0.2067 - accuracy: 1.0000\n",
      "Epoch 40/100\n",
      "750/750 [==============================] - 0s 86us/sample - loss: 0.2022 - accuracy: 1.0000\n",
      "Epoch 41/100\n",
      "750/750 [==============================] - 0s 163us/sample - loss: 0.1979 - accuracy: 1.0000\n",
      "Epoch 42/100\n",
      "750/750 [==============================] - 0s 132us/sample - loss: 0.1937 - accuracy: 1.0000\n",
      "Epoch 43/100\n",
      "750/750 [==============================] - 0s 120us/sample - loss: 0.1896 - accuracy: 1.0000\n",
      "Epoch 44/100\n",
      "750/750 [==============================] - 0s 117us/sample - loss: 0.1856 - accuracy: 1.0000\n",
      "Epoch 45/100\n",
      "750/750 [==============================] - 0s 115us/sample - loss: 0.1818 - accuracy: 1.0000\n",
      "Epoch 46/100\n",
      "750/750 [==============================] - 0s 126us/sample - loss: 0.1781 - accuracy: 1.0000\n",
      "Epoch 47/100\n",
      "750/750 [==============================] - 0s 131us/sample - loss: 0.1744 - accuracy: 1.0000\n",
      "Epoch 48/100\n",
      "750/750 [==============================] - 0s 125us/sample - loss: 0.1709 - accuracy: 1.0000\n",
      "Epoch 49/100\n",
      "750/750 [==============================] - 0s 117us/sample - loss: 0.1675 - accuracy: 1.0000\n",
      "Epoch 50/100\n",
      "750/750 [==============================] - 0s 106us/sample - loss: 0.1641 - accuracy: 1.0000\n",
      "Epoch 51/100\n",
      "750/750 [==============================] - 0s 106us/sample - loss: 0.1609 - accuracy: 1.0000\n",
      "Epoch 52/100\n",
      "750/750 [==============================] - 0s 102us/sample - loss: 0.1578 - accuracy: 1.0000\n",
      "Epoch 53/100\n",
      "750/750 [==============================] - 0s 107us/sample - loss: 0.1547 - accuracy: 1.0000\n",
      "Epoch 54/100\n",
      "750/750 [==============================] - 0s 106us/sample - loss: 0.1517 - accuracy: 1.0000\n",
      "Epoch 55/100\n",
      "750/750 [==============================] - 0s 98us/sample - loss: 0.1488 - accuracy: 1.0000\n",
      "Epoch 56/100\n",
      "750/750 [==============================] - 0s 97us/sample - loss: 0.1460 - accuracy: 1.0000\n",
      "Epoch 57/100\n",
      "750/750 [==============================] - 0s 93us/sample - loss: 0.1432 - accuracy: 1.0000\n",
      "Epoch 58/100\n",
      "750/750 [==============================] - 0s 107us/sample - loss: 0.1406 - accuracy: 1.0000\n",
      "Epoch 59/100\n",
      "750/750 [==============================] - 0s 92us/sample - loss: 0.1380 - accuracy: 1.0000\n",
      "Epoch 60/100\n",
      "750/750 [==============================] - 0s 100us/sample - loss: 0.1355 - accuracy: 1.0000\n",
      "Epoch 61/100\n",
      "750/750 [==============================] - 0s 95us/sample - loss: 0.1330 - accuracy: 1.0000\n",
      "Epoch 62/100\n",
      "750/750 [==============================] - 0s 121us/sample - loss: 0.1305 - accuracy: 1.0000\n",
      "Epoch 63/100\n",
      "750/750 [==============================] - 0s 106us/sample - loss: 0.1282 - accuracy: 1.0000\n",
      "Epoch 64/100\n",
      "750/750 [==============================] - 0s 102us/sample - loss: 0.1259 - accuracy: 1.0000\n",
      "Epoch 65/100\n",
      "750/750 [==============================] - 0s 98us/sample - loss: 0.1237 - accuracy: 1.0000\n",
      "Epoch 66/100\n",
      "750/750 [==============================] - 0s 106us/sample - loss: 0.1215 - accuracy: 1.0000\n",
      "Epoch 67/100\n",
      "750/750 [==============================] - 0s 96us/sample - loss: 0.1193 - accuracy: 1.0000\n",
      "Epoch 68/100\n",
      "750/750 [==============================] - 0s 111us/sample - loss: 0.1172 - accuracy: 1.0000\n",
      "Epoch 69/100\n",
      "750/750 [==============================] - 0s 107us/sample - loss: 0.1152 - accuracy: 1.0000\n",
      "Epoch 70/100\n",
      "750/750 [==============================] - 0s 104us/sample - loss: 0.1132 - accuracy: 1.0000\n",
      "Epoch 71/100\n",
      "750/750 [==============================] - 0s 104us/sample - loss: 0.1113 - accuracy: 1.0000\n",
      "Epoch 72/100\n",
      "750/750 [==============================] - 0s 121us/sample - loss: 0.1094 - accuracy: 1.0000\n",
      "Epoch 73/100\n",
      "750/750 [==============================] - 0s 95us/sample - loss: 0.1075 - accuracy: 1.0000\n",
      "Epoch 74/100\n",
      "750/750 [==============================] - 0s 86us/sample - loss: 0.1057 - accuracy: 1.0000\n",
      "Epoch 75/100\n",
      "750/750 [==============================] - 0s 88us/sample - loss: 0.1039 - accuracy: 1.0000\n",
      "Epoch 76/100\n",
      "750/750 [==============================] - 0s 80us/sample - loss: 0.1022 - accuracy: 1.0000\n",
      "Epoch 77/100\n",
      "750/750 [==============================] - 0s 106us/sample - loss: 0.1005 - accuracy: 1.0000\n",
      "Epoch 78/100\n"
     ]
    },
    {
     "name": "stdout",
     "output_type": "stream",
     "text": [
      "750/750 [==============================] - 0s 116us/sample - loss: 0.0989 - accuracy: 1.0000\n",
      "Epoch 79/100\n",
      "750/750 [==============================] - 0s 102us/sample - loss: 0.0972 - accuracy: 1.0000\n",
      "Epoch 80/100\n",
      "750/750 [==============================] - 0s 99us/sample - loss: 0.0956 - accuracy: 1.0000\n",
      "Epoch 81/100\n",
      "750/750 [==============================] - 0s 77us/sample - loss: 0.0941 - accuracy: 1.0000\n",
      "Epoch 82/100\n",
      "750/750 [==============================] - 0s 74us/sample - loss: 0.0926 - accuracy: 1.0000\n",
      "Epoch 83/100\n",
      "750/750 [==============================] - 0s 77us/sample - loss: 0.0911 - accuracy: 1.0000\n",
      "Epoch 84/100\n",
      "750/750 [==============================] - 0s 87us/sample - loss: 0.0896 - accuracy: 1.0000\n",
      "Epoch 85/100\n",
      "750/750 [==============================] - 0s 99us/sample - loss: 0.0882 - accuracy: 1.0000\n",
      "Epoch 86/100\n",
      "750/750 [==============================] - 0s 102us/sample - loss: 0.0868 - accuracy: 1.0000\n",
      "Epoch 87/100\n",
      "750/750 [==============================] - 0s 101us/sample - loss: 0.0854 - accuracy: 1.0000\n",
      "Epoch 88/100\n",
      "750/750 [==============================] - 0s 82us/sample - loss: 0.0841 - accuracy: 1.0000\n",
      "Epoch 89/100\n",
      "750/750 [==============================] - 0s 79us/sample - loss: 0.0828 - accuracy: 1.0000\n",
      "Epoch 90/100\n",
      "750/750 [==============================] - 0s 83us/sample - loss: 0.0815 - accuracy: 1.0000\n",
      "Epoch 91/100\n",
      "750/750 [==============================] - 0s 73us/sample - loss: 0.0802 - accuracy: 1.0000\n",
      "Epoch 92/100\n",
      "750/750 [==============================] - 0s 79us/sample - loss: 0.0790 - accuracy: 1.0000\n",
      "Epoch 93/100\n",
      "750/750 [==============================] - 0s 78us/sample - loss: 0.0778 - accuracy: 1.0000\n",
      "Epoch 94/100\n",
      "750/750 [==============================] - 0s 75us/sample - loss: 0.0766 - accuracy: 1.0000\n",
      "Epoch 95/100\n",
      "750/750 [==============================] - 0s 74us/sample - loss: 0.0755 - accuracy: 1.0000\n",
      "Epoch 96/100\n",
      "750/750 [==============================] - 0s 76us/sample - loss: 0.0743 - accuracy: 1.0000\n",
      "Epoch 97/100\n",
      "750/750 [==============================] - 0s 74us/sample - loss: 0.0732 - accuracy: 1.0000\n",
      "Epoch 98/100\n",
      "750/750 [==============================] - 0s 80us/sample - loss: 0.0721 - accuracy: 1.0000\n",
      "Epoch 99/100\n",
      "750/750 [==============================] - 0s 78us/sample - loss: 0.0710 - accuracy: 1.0000\n",
      "Epoch 100/100\n",
      "750/750 [==============================] - 0s 79us/sample - loss: 0.0700 - accuracy: 1.0000\n"
     ]
    }
   ],
   "source": [
    "# Fit the model to the training data\n",
    "fit_model = nn_model.fit(X_train_scaled, y_train, epochs=100)"
   ]
  },
  {
   "cell_type": "code",
   "execution_count": 12,
   "metadata": {},
   "outputs": [
    {
     "data": {
      "text/html": [
       "<div>\n",
       "<style scoped>\n",
       "    .dataframe tbody tr th:only-of-type {\n",
       "        vertical-align: middle;\n",
       "    }\n",
       "\n",
       "    .dataframe tbody tr th {\n",
       "        vertical-align: top;\n",
       "    }\n",
       "\n",
       "    .dataframe thead th {\n",
       "        text-align: right;\n",
       "    }\n",
       "</style>\n",
       "<table border=\"1\" class=\"dataframe\">\n",
       "  <thead>\n",
       "    <tr style=\"text-align: right;\">\n",
       "      <th></th>\n",
       "      <th>loss</th>\n",
       "      <th>accuracy</th>\n",
       "    </tr>\n",
       "  </thead>\n",
       "  <tbody>\n",
       "    <tr>\n",
       "      <th>1</th>\n",
       "      <td>0.544780</td>\n",
       "      <td>0.973333</td>\n",
       "    </tr>\n",
       "    <tr>\n",
       "      <th>2</th>\n",
       "      <td>0.532548</td>\n",
       "      <td>1.000000</td>\n",
       "    </tr>\n",
       "    <tr>\n",
       "      <th>3</th>\n",
       "      <td>0.520100</td>\n",
       "      <td>1.000000</td>\n",
       "    </tr>\n",
       "    <tr>\n",
       "      <th>4</th>\n",
       "      <td>0.507554</td>\n",
       "      <td>1.000000</td>\n",
       "    </tr>\n",
       "    <tr>\n",
       "      <th>5</th>\n",
       "      <td>0.494893</td>\n",
       "      <td>1.000000</td>\n",
       "    </tr>\n",
       "  </tbody>\n",
       "</table>\n",
       "</div>"
      ],
      "text/plain": [
       "       loss  accuracy\n",
       "1  0.544780  0.973333\n",
       "2  0.532548  1.000000\n",
       "3  0.520100  1.000000\n",
       "4  0.507554  1.000000\n",
       "5  0.494893  1.000000"
      ]
     },
     "execution_count": 12,
     "metadata": {},
     "output_type": "execute_result"
    }
   ],
   "source": [
    "# Create a DataFrame containing training history\n",
    "history_df = pd.DataFrame(fit_model.history, index=range(1,len(fit_model.history[\"loss\"])+1))\n",
    "history_df.head()"
   ]
  },
  {
   "cell_type": "code",
   "execution_count": 13,
   "metadata": {},
   "outputs": [
    {
     "data": {
      "text/plain": [
       "<matplotlib.axes._subplots.AxesSubplot at 0x1a49738650>"
      ]
     },
     "execution_count": 13,
     "metadata": {},
     "output_type": "execute_result"
    },
    {
     "data": {
      "image/png": "[encoded data removed]",
      "text/plain": [
       "<Figure size 432x288 with 1 Axes>"
      ]
     },
     "metadata": {
      "needs_background": "light"
     },
     "output_type": "display_data"
    }
   ],
   "source": [
    "# Plot the loss\n",
    "history_df.plot(y=\"loss\")"
   ]
  },
  {
   "cell_type": "code",
   "execution_count": 14,
   "metadata": {},
   "outputs": [
    {
     "data": {
      "text/plain": [
       "<matplotlib.axes._subplots.AxesSubplot at 0x1a497bc890>"
      ]
     },
     "execution_count": 14,
     "metadata": {},
     "output_type": "execute_result"
    },
    {
     "data": {
      "image/png": "[encoded data removed]",
      "text/plain": [
       "<Figure size 432x288 with 1 Axes>"
      ]
     },
     "metadata": {
      "needs_background": "light"
     },
     "output_type": "display_data"
    }
   ],
   "source": [
    "# Plot the accuracy\n",
    "history_df.plot(y=\"accuracy\")"
   ]
  },
  {
   "cell_type": "code",
   "execution_count": 15,
   "metadata": {},
   "outputs": [
    {
     "name": "stdout",
     "output_type": "stream",
     "text": [
      "250/1 - 0s - loss: 0.0613 - accuracy: 1.0000\n",
      "Loss: 0.07105828872323036, Accuracy: 1.0\n"
     ]
    }
   ],
   "source": [
    "# Evaluate the model using the test data\n",
    "model_loss, model_accuracy = nn_model.evaluate(X_test_scaled,y_test,verbose=2)\n",
    "print(f\"Loss: {model_loss}, Accuracy: {model_accuracy}\")"
   ]
  },
  {
   "cell_type": "code",
   "execution_count": 16,
   "metadata": {},
   "outputs": [
    {
     "data": {
      "text/plain": [
       "array([[0],\n",
       "       [1],\n",
       "       [0],\n",
       "       [1],\n",
       "       [0],\n",
       "       [0],\n",
       "       [1],\n",
       "       [1],\n",
       "       [1],\n",
       "       [0]], dtype=int32)"
      ]
     },
     "execution_count": 16,
     "metadata": {},
     "output_type": "execute_result"
    }
   ],
   "source": [
    "# Predict the classification of a new set of blob data\n",
    "new_X, new_Y = make_blobs(n_samples=10, centers=2, n_features=2, random_state=78)\n",
    "\n",
    "nn_model.predict_classes(new_X)"
   ]
  },
  {
   "cell_type": "code",
   "execution_count": 17,
   "metadata": {},
   "outputs": [],
   "source": [
    "# Non-Linear Data section below"
   ]
  },
  {
   "cell_type": "code",
   "execution_count": 18,
   "metadata": {},
   "outputs": [
    {
     "data": {
      "text/plain": [
       "<matplotlib.axes._subplots.AxesSubplot at 0x1a49b9f310>"
      ]
     },
     "execution_count": 18,
     "metadata": {},
     "output_type": "execute_result"
    },
    {
     "data": {
      "image/png": "[encoded data removed]",
      "text/plain": [
       "<Figure size 432x288 with 2 Axes>"
      ]
     },
     "metadata": {
      "needs_background": "light"
     },
     "output_type": "display_data"
    }
   ],
   "source": [
    "from sklearn.datasets import make_moons\n",
    "\n",
    "# Creating dummy nonlinear data\n",
    "X_moons, y_moons = make_moons(n_samples=1000, noise=0.08, random_state=78)\n",
    "\n",
    "# Transforming y_moons to a vertical vector\n",
    "y_moons = y_moons.reshape(-1, 1)\n",
    "\n",
    "# Creating a DataFrame to plot the nonlinear dummy data\n",
    "df_moons = pd.DataFrame(X_moons, columns=[\"Feature 1\", \"Feature 2\"])\n",
    "df_moons[\"Target\"] = y_moons\n",
    "\n",
    "# Plot the nonlinear dummy data\n",
    "df_moons.plot.scatter(x=\"Feature 1\",y=\"Feature 2\", c=\"Target\",colormap=\"winter\")"
   ]
  },
  {
   "cell_type": "code",
   "execution_count": 19,
   "metadata": {},
   "outputs": [],
   "source": [
    "# Create training and testing sets\n",
    "X_moon_train, X_moon_test, y_moon_train, y_moon_test = train_test_split(\n",
    "    X_moons, y_moons, random_state=78\n",
    ")\n",
    "\n",
    "# Create the scaler instance\n",
    "X_moon_scaler = skl.preprocessing.StandardScaler()\n",
    "\n",
    "# Fit the scaler\n",
    "X_moon_scaler.fit(X_moon_train)\n",
    "\n",
    "# Scale the data\n",
    "X_moon_train_scaled = X_moon_scaler.transform(X_moon_train)\n",
    "X_moon_test_scaled = X_moon_scaler.transform(X_moon_test)"
   ]
  },
  {
   "cell_type": "code",
   "execution_count": 20,
   "metadata": {},
   "outputs": [
    {
     "name": "stdout",
     "output_type": "stream",
     "text": [
      "Train on 750 samples\n",
      "Epoch 1/100\n",
      "750/750 [==============================] - 0s 137us/sample - loss: 1.2061 - accuracy: 0.4480\n",
      "Epoch 2/100\n",
      "750/750 [==============================] - 0s 79us/sample - loss: 1.0862 - accuracy: 0.4680\n",
      "Epoch 3/100\n",
      "750/750 [==============================] - 0s 105us/sample - loss: 1.0048 - accuracy: 0.4813\n",
      "Epoch 4/100\n",
      "750/750 [==============================] - 0s 80us/sample - loss: 0.9478 - accuracy: 0.4880\n",
      "Epoch 5/100\n",
      "750/750 [==============================] - 0s 80us/sample - loss: 0.9057 - accuracy: 0.4947\n",
      "Epoch 6/100\n",
      "750/750 [==============================] - 0s 86us/sample - loss: 0.8713 - accuracy: 0.5067\n",
      "Epoch 7/100\n",
      "750/750 [==============================] - 0s 114us/sample - loss: 0.8440 - accuracy: 0.5120\n",
      "Epoch 8/100\n",
      "750/750 [==============================] - 0s 108us/sample - loss: 0.8203 - accuracy: 0.5213\n",
      "Epoch 9/100\n",
      "750/750 [==============================] - 0s 91us/sample - loss: 0.7997 - accuracy: 0.5293\n",
      "Epoch 10/100\n",
      "750/750 [==============================] - 0s 77us/sample - loss: 0.7817 - accuracy: 0.5453\n",
      "Epoch 11/100\n",
      "750/750 [==============================] - 0s 71us/sample - loss: 0.7654 - accuracy: 0.5560\n",
      "Epoch 12/100\n",
      "750/750 [==============================] - 0s 80us/sample - loss: 0.7507 - accuracy: 0.5627\n",
      "Epoch 13/100\n",
      "750/750 [==============================] - 0s 119us/sample - loss: 0.7373 - accuracy: 0.5707\n",
      "Epoch 14/100\n",
      "750/750 [==============================] - 0s 112us/sample - loss: 0.7252 - accuracy: 0.5800\n",
      "Epoch 15/100\n",
      "750/750 [==============================] - 0s 101us/sample - loss: 0.7136 - accuracy: 0.5853\n",
      "Epoch 16/100\n",
      "750/750 [==============================] - 0s 79us/sample - loss: 0.7031 - accuracy: 0.5933\n",
      "Epoch 17/100\n",
      "750/750 [==============================] - 0s 86us/sample - loss: 0.6930 - accuracy: 0.5973\n",
      "Epoch 18/100\n",
      "750/750 [==============================] - 0s 83us/sample - loss: 0.6836 - accuracy: 0.6013\n",
      "Epoch 19/100\n",
      "750/750 [==============================] - 0s 70us/sample - loss: 0.6745 - accuracy: 0.6040\n",
      "Epoch 20/100\n",
      "750/750 [==============================] - 0s 69us/sample - loss: 0.6660 - accuracy: 0.6093\n",
      "Epoch 21/100\n",
      "750/750 [==============================] - 0s 70us/sample - loss: 0.6581 - accuracy: 0.6160\n",
      "Epoch 22/100\n",
      "750/750 [==============================] - 0s 70us/sample - loss: 0.6506 - accuracy: 0.6200\n",
      "Epoch 23/100\n",
      "750/750 [==============================] - 0s 76us/sample - loss: 0.6435 - accuracy: 0.6213\n",
      "Epoch 24/100\n",
      "750/750 [==============================] - 0s 78us/sample - loss: 0.6369 - accuracy: 0.6227\n",
      "Epoch 25/100\n",
      "750/750 [==============================] - 0s 79us/sample - loss: 0.6305 - accuracy: 0.6267\n",
      "Epoch 26/100\n",
      "750/750 [==============================] - 0s 78us/sample - loss: 0.6244 - accuracy: 0.6320\n",
      "Epoch 27/100\n",
      "750/750 [==============================] - 0s 84us/sample - loss: 0.6186 - accuracy: 0.6347\n",
      "Epoch 28/100\n",
      "750/750 [==============================] - 0s 74us/sample - loss: 0.6129 - accuracy: 0.6400\n",
      "Epoch 29/100\n",
      "750/750 [==============================] - 0s 79us/sample - loss: 0.6073 - accuracy: 0.6413\n",
      "Epoch 30/100\n",
      "750/750 [==============================] - 0s 93us/sample - loss: 0.6020 - accuracy: 0.6453\n",
      "Epoch 31/100\n",
      "750/750 [==============================] - 0s 116us/sample - loss: 0.5969 - accuracy: 0.6533\n",
      "Epoch 32/100\n",
      "750/750 [==============================] - 0s 87us/sample - loss: 0.5922 - accuracy: 0.6560\n",
      "Epoch 33/100\n",
      "750/750 [==============================] - 0s 94us/sample - loss: 0.5872 - accuracy: 0.6587\n",
      "Epoch 34/100\n",
      "750/750 [==============================] - 0s 95us/sample - loss: 0.5825 - accuracy: 0.6627\n",
      "Epoch 35/100\n",
      "750/750 [==============================] - 0s 91us/sample - loss: 0.5781 - accuracy: 0.6653\n",
      "Epoch 36/100\n",
      "750/750 [==============================] - 0s 88us/sample - loss: 0.5738 - accuracy: 0.6680\n",
      "Epoch 37/100\n",
      "750/750 [==============================] - 0s 73us/sample - loss: 0.5695 - accuracy: 0.6707\n",
      "Epoch 38/100\n",
      "750/750 [==============================] - 0s 72us/sample - loss: 0.5654 - accuracy: 0.6747\n",
      "Epoch 39/100\n",
      "750/750 [==============================] - 0s 141us/sample - loss: 0.5614 - accuracy: 0.6760\n",
      "Epoch 40/100\n",
      "750/750 [==============================] - 0s 98us/sample - loss: 0.5573 - accuracy: 0.6800\n",
      "Epoch 41/100\n",
      "750/750 [==============================] - 0s 95us/sample - loss: 0.5534 - accuracy: 0.6813\n",
      "Epoch 42/100\n",
      "750/750 [==============================] - 0s 106us/sample - loss: 0.5497 - accuracy: 0.6840\n",
      "Epoch 43/100\n",
      "750/750 [==============================] - 0s 100us/sample - loss: 0.5461 - accuracy: 0.6880\n",
      "Epoch 44/100\n",
      "750/750 [==============================] - 0s 89us/sample - loss: 0.5425 - accuracy: 0.6880\n",
      "Epoch 45/100\n",
      "750/750 [==============================] - 0s 89us/sample - loss: 0.5392 - accuracy: 0.6933\n",
      "Epoch 46/100\n",
      "750/750 [==============================] - 0s 84us/sample - loss: 0.5359 - accuracy: 0.6973\n",
      "Epoch 47/100\n",
      "750/750 [==============================] - 0s 98us/sample - loss: 0.5325 - accuracy: 0.6987\n",
      "Epoch 48/100\n",
      "750/750 [==============================] - 0s 132us/sample - loss: 0.5293 - accuracy: 0.6987\n",
      "Epoch 49/100\n",
      "750/750 [==============================] - 0s 119us/sample - loss: 0.5262 - accuracy: 0.7040\n",
      "Epoch 50/100\n",
      "750/750 [==============================] - 0s 182us/sample - loss: 0.5231 - accuracy: 0.7040\n",
      "Epoch 51/100\n",
      "750/750 [==============================] - 0s 131us/sample - loss: 0.5201 - accuracy: 0.7053\n",
      "Epoch 52/100\n",
      "750/750 [==============================] - 0s 104us/sample - loss: 0.5171 - accuracy: 0.7107\n",
      "Epoch 53/100\n",
      "750/750 [==============================] - 0s 101us/sample - loss: 0.5141 - accuracy: 0.7133\n",
      "Epoch 54/100\n",
      "750/750 [==============================] - 0s 109us/sample - loss: 0.5113 - accuracy: 0.7147\n",
      "Epoch 55/100\n",
      "750/750 [==============================] - 0s 89us/sample - loss: 0.5085 - accuracy: 0.7173\n",
      "Epoch 56/100\n",
      "750/750 [==============================] - 0s 87us/sample - loss: 0.5055 - accuracy: 0.7173\n",
      "Epoch 57/100\n",
      "750/750 [==============================] - 0s 92us/sample - loss: 0.5026 - accuracy: 0.7213\n",
      "Epoch 58/100\n",
      "750/750 [==============================] - 0s 111us/sample - loss: 0.4999 - accuracy: 0.7240\n",
      "Epoch 59/100\n",
      "750/750 [==============================] - 0s 116us/sample - loss: 0.4970 - accuracy: 0.7267\n",
      "Epoch 60/100\n",
      "750/750 [==============================] - 0s 96us/sample - loss: 0.4943 - accuracy: 0.7293\n",
      "Epoch 61/100\n",
      "750/750 [==============================] - 0s 86us/sample - loss: 0.4914 - accuracy: 0.7333\n",
      "Epoch 62/100\n",
      "750/750 [==============================] - 0s 113us/sample - loss: 0.4886 - accuracy: 0.7333\n",
      "Epoch 63/100\n",
      "750/750 [==============================] - 0s 117us/sample - loss: 0.4858 - accuracy: 0.7333\n",
      "Epoch 64/100\n",
      "750/750 [==============================] - 0s 113us/sample - loss: 0.4829 - accuracy: 0.7347\n",
      "Epoch 65/100\n",
      "750/750 [==============================] - 0s 91us/sample - loss: 0.4801 - accuracy: 0.7360\n",
      "Epoch 66/100\n",
      "750/750 [==============================] - 0s 88us/sample - loss: 0.4772 - accuracy: 0.7373\n",
      "Epoch 67/100\n",
      "750/750 [==============================] - 0s 96us/sample - loss: 0.4742 - accuracy: 0.7413\n",
      "Epoch 68/100\n",
      "750/750 [==============================] - 0s 94us/sample - loss: 0.4713 - accuracy: 0.7427\n",
      "Epoch 69/100\n",
      "750/750 [==============================] - 0s 91us/sample - loss: 0.4684 - accuracy: 0.7467\n",
      "Epoch 70/100\n",
      "750/750 [==============================] - 0s 97us/sample - loss: 0.4654 - accuracy: 0.7480\n",
      "Epoch 71/100\n",
      "750/750 [==============================] - 0s 90us/sample - loss: 0.4624 - accuracy: 0.7493\n",
      "Epoch 72/100\n",
      "750/750 [==============================] - 0s 95us/sample - loss: 0.4593 - accuracy: 0.7547\n",
      "Epoch 73/100\n",
      "750/750 [==============================] - 0s 95us/sample - loss: 0.4562 - accuracy: 0.7547\n",
      "Epoch 74/100\n",
      "750/750 [==============================] - 0s 103us/sample - loss: 0.4531 - accuracy: 0.7547\n",
      "Epoch 75/100\n",
      "750/750 [==============================] - 0s 96us/sample - loss: 0.4498 - accuracy: 0.7587\n",
      "Epoch 76/100\n",
      "750/750 [==============================] - 0s 103us/sample - loss: 0.4464 - accuracy: 0.7600\n",
      "Epoch 77/100\n",
      "750/750 [==============================] - 0s 113us/sample - loss: 0.4431 - accuracy: 0.7653\n",
      "Epoch 78/100\n"
     ]
    },
    {
     "name": "stdout",
     "output_type": "stream",
     "text": [
      "750/750 [==============================] - 0s 112us/sample - loss: 0.4398 - accuracy: 0.7667\n",
      "Epoch 79/100\n",
      "750/750 [==============================] - 0s 118us/sample - loss: 0.4363 - accuracy: 0.7693\n",
      "Epoch 80/100\n",
      "750/750 [==============================] - 0s 99us/sample - loss: 0.4329 - accuracy: 0.7707\n",
      "Epoch 81/100\n",
      "750/750 [==============================] - 0s 98us/sample - loss: 0.4297 - accuracy: 0.7720\n",
      "Epoch 82/100\n",
      "750/750 [==============================] - 0s 95us/sample - loss: 0.4262 - accuracy: 0.7813\n",
      "Epoch 83/100\n",
      "750/750 [==============================] - 0s 104us/sample - loss: 0.4230 - accuracy: 0.7827\n",
      "Epoch 84/100\n",
      "750/750 [==============================] - 0s 102us/sample - loss: 0.4196 - accuracy: 0.7853\n",
      "Epoch 85/100\n",
      "750/750 [==============================] - 0s 176us/sample - loss: 0.4161 - accuracy: 0.7880\n",
      "Epoch 86/100\n",
      "750/750 [==============================] - 0s 91us/sample - loss: 0.4126 - accuracy: 0.7920\n",
      "Epoch 87/100\n",
      "750/750 [==============================] - 0s 72us/sample - loss: 0.4093 - accuracy: 0.7960\n",
      "Epoch 88/100\n",
      "750/750 [==============================] - 0s 72us/sample - loss: 0.4059 - accuracy: 0.7987\n",
      "Epoch 89/100\n",
      "750/750 [==============================] - 0s 91us/sample - loss: 0.4023 - accuracy: 0.8000\n",
      "Epoch 90/100\n",
      "750/750 [==============================] - 0s 105us/sample - loss: 0.3988 - accuracy: 0.8013\n",
      "Epoch 91/100\n",
      "750/750 [==============================] - 0s 98us/sample - loss: 0.3952 - accuracy: 0.8027\n",
      "Epoch 92/100\n",
      "750/750 [==============================] - 0s 83us/sample - loss: 0.3916 - accuracy: 0.8053\n",
      "Epoch 93/100\n",
      "750/750 [==============================] - 0s 74us/sample - loss: 0.3881 - accuracy: 0.8067\n",
      "Epoch 94/100\n",
      "750/750 [==============================] - 0s 72us/sample - loss: 0.3845 - accuracy: 0.8093\n",
      "Epoch 95/100\n",
      "750/750 [==============================] - 0s 97us/sample - loss: 0.3808 - accuracy: 0.8107\n",
      "Epoch 96/100\n",
      "750/750 [==============================] - 0s 105us/sample - loss: 0.3772 - accuracy: 0.8160\n",
      "Epoch 97/100\n",
      "750/750 [==============================] - 0s 94us/sample - loss: 0.3736 - accuracy: 0.8173\n",
      "Epoch 98/100\n",
      "750/750 [==============================] - 0s 88us/sample - loss: 0.3700 - accuracy: 0.8213\n",
      "Epoch 99/100\n",
      "750/750 [==============================] - 0s 83us/sample - loss: 0.3664 - accuracy: 0.8213\n",
      "Epoch 100/100\n",
      "750/750 [==============================] - 0s 93us/sample - loss: 0.3629 - accuracy: 0.8240\n"
     ]
    }
   ],
   "source": [
    "# Training the model with the nonlinear data\n",
    "model_moon = nn_model.fit(X_moon_train_scaled, y_moon_train, epochs=100, shuffle=True)"
   ]
  },
  {
   "cell_type": "code",
   "execution_count": 21,
   "metadata": {},
   "outputs": [
    {
     "data": {
      "text/plain": [
       "<matplotlib.axes._subplots.AxesSubplot at 0x1a49d87ad0>"
      ]
     },
     "execution_count": 21,
     "metadata": {},
     "output_type": "execute_result"
    },
    {
     "data": {
      "image/png": "[encoded data removed]",
      "text/plain": [
       "<Figure size 432x288 with 1 Axes>"
      ]
     },
     "metadata": {
      "needs_background": "light"
     },
     "output_type": "display_data"
    }
   ],
   "source": [
    "# Create a DataFrame containing training history\n",
    "history_df = pd.DataFrame(model_moon.history, index=range(1,len(model_moon.history[\"loss\"])+1))\n",
    "\n",
    "# Plot the loss\n",
    "history_df.plot(y=\"loss\")"
   ]
  },
  {
   "cell_type": "code",
   "execution_count": 22,
   "metadata": {},
   "outputs": [
    {
     "data": {
      "text/plain": [
       "<matplotlib.axes._subplots.AxesSubplot at 0x1a49c95ad0>"
      ]
     },
     "execution_count": 22,
     "metadata": {},
     "output_type": "execute_result"
    },
    {
     "data": {
      "image/png": "[encoded data removed]",
      "text/plain": [
       "<Figure size 432x288 with 1 Axes>"
      ]
     },
     "metadata": {
      "needs_background": "light"
     },
     "output_type": "display_data"
    }
   ],
   "source": [
    "# Plot the loss\n",
    "history_df.plot(y=\"accuracy\")"
   ]
  },
  {
   "cell_type": "code",
   "execution_count": 23,
   "metadata": {},
   "outputs": [],
   "source": [
    "# Generate our new Sequential model\n",
    "new_model = tf.keras.models.Sequential()"
   ]
  },
  {
   "cell_type": "code",
   "execution_count": 24,
   "metadata": {},
   "outputs": [],
   "source": [
    "# Add the input and hidden layer\n",
    "number_inputs = 2\n",
    "number_hidden_nodes = 6\n",
    "\n",
    "new_model.add(tf.keras.layers.Dense(units=number_hidden_nodes, activation=\"relu\", input_dim=number_inputs))\n",
    "\n",
    "# Add the output layer that uses a probability activation function\n",
    "new_model.add(tf.keras.layers.Dense(units=1, activation=\"sigmoid\"))"
   ]
  },
  {
   "cell_type": "code",
   "execution_count": 25,
   "metadata": {},
   "outputs": [
    {
     "name": "stdout",
     "output_type": "stream",
     "text": [
      "Train on 750 samples\n",
      "Epoch 1/100\n",
      "750/750 [==============================] - 1s 1ms/sample - loss: 0.7072 - accuracy: 0.5667\n",
      "Epoch 2/100\n",
      "750/750 [==============================] - 0s 95us/sample - loss: 0.6596 - accuracy: 0.6493\n",
      "Epoch 3/100\n",
      "750/750 [==============================] - 0s 92us/sample - loss: 0.6191 - accuracy: 0.7013\n",
      "Epoch 4/100\n",
      "750/750 [==============================] - 0s 91us/sample - loss: 0.5831 - accuracy: 0.7387\n",
      "Epoch 5/100\n",
      "750/750 [==============================] - 0s 90us/sample - loss: 0.5516 - accuracy: 0.7680\n",
      "Epoch 6/100\n",
      "750/750 [==============================] - 0s 84us/sample - loss: 0.5234 - accuracy: 0.7973\n",
      "Epoch 7/100\n",
      "750/750 [==============================] - 0s 87us/sample - loss: 0.4979 - accuracy: 0.8280\n",
      "Epoch 8/100\n",
      "750/750 [==============================] - 0s 88us/sample - loss: 0.4746 - accuracy: 0.8413\n",
      "Epoch 9/100\n",
      "750/750 [==============================] - 0s 83us/sample - loss: 0.4536 - accuracy: 0.8600\n",
      "Epoch 10/100\n",
      "750/750 [==============================] - 0s 87us/sample - loss: 0.4342 - accuracy: 0.8693\n",
      "Epoch 11/100\n",
      "750/750 [==============================] - 0s 89us/sample - loss: 0.4164 - accuracy: 0.8747\n",
      "Epoch 12/100\n",
      "750/750 [==============================] - 0s 84us/sample - loss: 0.4003 - accuracy: 0.8800\n",
      "Epoch 13/100\n",
      "750/750 [==============================] - 0s 87us/sample - loss: 0.3856 - accuracy: 0.8787\n",
      "Epoch 14/100\n",
      "750/750 [==============================] - 0s 92us/sample - loss: 0.3720 - accuracy: 0.8773\n",
      "Epoch 15/100\n",
      "750/750 [==============================] - 0s 103us/sample - loss: 0.3597 - accuracy: 0.8773\n",
      "Epoch 16/100\n",
      "750/750 [==============================] - 0s 96us/sample - loss: 0.3485 - accuracy: 0.8773\n",
      "Epoch 17/100\n",
      "750/750 [==============================] - 0s 97us/sample - loss: 0.3383 - accuracy: 0.8813\n",
      "Epoch 18/100\n",
      "750/750 [==============================] - 0s 97us/sample - loss: 0.3290 - accuracy: 0.8827\n",
      "Epoch 19/100\n",
      "750/750 [==============================] - 0s 96us/sample - loss: 0.3207 - accuracy: 0.8867\n",
      "Epoch 20/100\n",
      "750/750 [==============================] - 0s 92us/sample - loss: 0.3130 - accuracy: 0.8880\n",
      "Epoch 21/100\n",
      "750/750 [==============================] - 0s 101us/sample - loss: 0.3062 - accuracy: 0.8893\n",
      "Epoch 22/100\n",
      "750/750 [==============================] - 0s 102us/sample - loss: 0.2999 - accuracy: 0.8893\n",
      "Epoch 23/100\n",
      "750/750 [==============================] - 0s 97us/sample - loss: 0.2941 - accuracy: 0.8907\n",
      "Epoch 24/100\n",
      "750/750 [==============================] - 0s 91us/sample - loss: 0.2890 - accuracy: 0.8907\n",
      "Epoch 25/100\n",
      "750/750 [==============================] - 0s 93us/sample - loss: 0.2843 - accuracy: 0.8907\n",
      "Epoch 26/100\n",
      "750/750 [==============================] - 0s 116us/sample - loss: 0.2799 - accuracy: 0.8907\n",
      "Epoch 27/100\n",
      "750/750 [==============================] - 0s 120us/sample - loss: 0.2760 - accuracy: 0.8907\n",
      "Epoch 28/100\n",
      "750/750 [==============================] - 0s 152us/sample - loss: 0.2723 - accuracy: 0.8907\n",
      "Epoch 29/100\n",
      "750/750 [==============================] - 0s 116us/sample - loss: 0.2691 - accuracy: 0.8907\n",
      "Epoch 30/100\n",
      "750/750 [==============================] - 0s 104us/sample - loss: 0.2661 - accuracy: 0.8907\n",
      "Epoch 31/100\n",
      "750/750 [==============================] - 0s 90us/sample - loss: 0.2634 - accuracy: 0.8920\n",
      "Epoch 32/100\n",
      "750/750 [==============================] - 0s 92us/sample - loss: 0.2609 - accuracy: 0.8920\n",
      "Epoch 33/100\n",
      "750/750 [==============================] - 0s 89us/sample - loss: 0.2584 - accuracy: 0.8933\n",
      "Epoch 34/100\n",
      "750/750 [==============================] - 0s 107us/sample - loss: 0.2563 - accuracy: 0.8960\n",
      "Epoch 35/100\n",
      "750/750 [==============================] - 0s 105us/sample - loss: 0.2541 - accuracy: 0.8960\n",
      "Epoch 36/100\n",
      "750/750 [==============================] - 0s 86us/sample - loss: 0.2522 - accuracy: 0.8973\n",
      "Epoch 37/100\n",
      "750/750 [==============================] - 0s 89us/sample - loss: 0.2506 - accuracy: 0.9000\n",
      "Epoch 38/100\n",
      "750/750 [==============================] - 0s 92us/sample - loss: 0.2488 - accuracy: 0.8987\n",
      "Epoch 39/100\n",
      "750/750 [==============================] - 0s 102us/sample - loss: 0.2472 - accuracy: 0.8987\n",
      "Epoch 40/100\n",
      "750/750 [==============================] - 0s 94us/sample - loss: 0.2457 - accuracy: 0.8987\n",
      "Epoch 41/100\n",
      "750/750 [==============================] - 0s 91us/sample - loss: 0.2444 - accuracy: 0.8973\n",
      "Epoch 42/100\n",
      "750/750 [==============================] - 0s 99us/sample - loss: 0.2432 - accuracy: 0.8973\n",
      "Epoch 43/100\n",
      "750/750 [==============================] - 0s 103us/sample - loss: 0.2421 - accuracy: 0.8973\n",
      "Epoch 44/100\n",
      "750/750 [==============================] - 0s 98us/sample - loss: 0.2410 - accuracy: 0.8973\n",
      "Epoch 45/100\n",
      "750/750 [==============================] - 0s 94us/sample - loss: 0.2401 - accuracy: 0.8987\n",
      "Epoch 46/100\n",
      "750/750 [==============================] - 0s 95us/sample - loss: 0.2392 - accuracy: 0.8987\n",
      "Epoch 47/100\n",
      "750/750 [==============================] - 0s 84us/sample - loss: 0.2384 - accuracy: 0.8987\n",
      "Epoch 48/100\n",
      "750/750 [==============================] - 0s 99us/sample - loss: 0.2377 - accuracy: 0.9000\n",
      "Epoch 49/100\n",
      "750/750 [==============================] - 0s 100us/sample - loss: 0.2370 - accuracy: 0.9000\n",
      "Epoch 50/100\n",
      "750/750 [==============================] - 0s 130us/sample - loss: 0.2363 - accuracy: 0.9000\n",
      "Epoch 51/100\n",
      "750/750 [==============================] - 0s 133us/sample - loss: 0.2358 - accuracy: 0.9013\n",
      "Epoch 52/100\n",
      "750/750 [==============================] - 0s 120us/sample - loss: 0.2351 - accuracy: 0.9013\n",
      "Epoch 53/100\n",
      "750/750 [==============================] - 0s 111us/sample - loss: 0.2346 - accuracy: 0.9013\n",
      "Epoch 54/100\n",
      "750/750 [==============================] - 0s 124us/sample - loss: 0.2341 - accuracy: 0.9013\n",
      "Epoch 55/100\n",
      "750/750 [==============================] - 0s 114us/sample - loss: 0.2336 - accuracy: 0.9013\n",
      "Epoch 56/100\n",
      "750/750 [==============================] - 0s 132us/sample - loss: 0.2332 - accuracy: 0.9013\n",
      "Epoch 57/100\n",
      "750/750 [==============================] - 0s 73us/sample - loss: 0.2328 - accuracy: 0.9013\n",
      "Epoch 58/100\n",
      "750/750 [==============================] - 0s 69us/sample - loss: 0.2326 - accuracy: 0.9013\n",
      "Epoch 59/100\n",
      "750/750 [==============================] - 0s 70us/sample - loss: 0.2321 - accuracy: 0.9013\n",
      "Epoch 60/100\n",
      "750/750 [==============================] - 0s 88us/sample - loss: 0.2318 - accuracy: 0.9013\n",
      "Epoch 61/100\n",
      "750/750 [==============================] - 0s 105us/sample - loss: 0.2314 - accuracy: 0.9013\n",
      "Epoch 62/100\n",
      "750/750 [==============================] - 0s 100us/sample - loss: 0.2311 - accuracy: 0.9013\n",
      "Epoch 63/100\n",
      "750/750 [==============================] - 0s 90us/sample - loss: 0.2309 - accuracy: 0.9013\n",
      "Epoch 64/100\n",
      "750/750 [==============================] - 0s 90us/sample - loss: 0.2306 - accuracy: 0.9013\n",
      "Epoch 65/100\n",
      "750/750 [==============================] - 0s 89us/sample - loss: 0.2303 - accuracy: 0.9013\n",
      "Epoch 66/100\n",
      "750/750 [==============================] - 0s 90us/sample - loss: 0.2300 - accuracy: 0.9013\n",
      "Epoch 67/100\n",
      "750/750 [==============================] - 0s 90us/sample - loss: 0.2299 - accuracy: 0.9013\n",
      "Epoch 68/100\n",
      "750/750 [==============================] - 0s 87us/sample - loss: 0.2296 - accuracy: 0.9013\n",
      "Epoch 69/100\n",
      "750/750 [==============================] - 0s 83us/sample - loss: 0.2292 - accuracy: 0.9013\n",
      "Epoch 70/100\n",
      "750/750 [==============================] - 0s 79us/sample - loss: 0.2291 - accuracy: 0.9013\n",
      "Epoch 71/100\n",
      "750/750 [==============================] - 0s 75us/sample - loss: 0.2288 - accuracy: 0.9013\n",
      "Epoch 72/100\n",
      "750/750 [==============================] - 0s 72us/sample - loss: 0.2285 - accuracy: 0.9013\n",
      "Epoch 73/100\n",
      "750/750 [==============================] - 0s 72us/sample - loss: 0.2283 - accuracy: 0.9027\n",
      "Epoch 74/100\n",
      "750/750 [==============================] - 0s 81us/sample - loss: 0.2281 - accuracy: 0.9027\n",
      "Epoch 75/100\n",
      "750/750 [==============================] - 0s 84us/sample - loss: 0.2279 - accuracy: 0.9027\n",
      "Epoch 76/100\n",
      "750/750 [==============================] - 0s 91us/sample - loss: 0.2277 - accuracy: 0.9027\n",
      "Epoch 77/100\n",
      "750/750 [==============================] - 0s 90us/sample - loss: 0.2275 - accuracy: 0.9027\n",
      "Epoch 78/100\n"
     ]
    },
    {
     "name": "stdout",
     "output_type": "stream",
     "text": [
      "750/750 [==============================] - 0s 75us/sample - loss: 0.2273 - accuracy: 0.9027\n",
      "Epoch 79/100\n",
      "750/750 [==============================] - 0s 166us/sample - loss: 0.2272 - accuracy: 0.9027\n",
      "Epoch 80/100\n",
      "750/750 [==============================] - 0s 75us/sample - loss: 0.2270 - accuracy: 0.9027\n",
      "Epoch 81/100\n",
      "750/750 [==============================] - 0s 72us/sample - loss: 0.2268 - accuracy: 0.9027\n",
      "Epoch 82/100\n",
      "750/750 [==============================] - 0s 111us/sample - loss: 0.2266 - accuracy: 0.9027\n",
      "Epoch 83/100\n",
      "750/750 [==============================] - 0s 110us/sample - loss: 0.2264 - accuracy: 0.9027\n",
      "Epoch 84/100\n",
      "750/750 [==============================] - 0s 86us/sample - loss: 0.2263 - accuracy: 0.9027\n",
      "Epoch 85/100\n",
      "750/750 [==============================] - 0s 81us/sample - loss: 0.2261 - accuracy: 0.9027\n",
      "Epoch 86/100\n",
      "750/750 [==============================] - 0s 80us/sample - loss: 0.2260 - accuracy: 0.9027\n",
      "Epoch 87/100\n",
      "750/750 [==============================] - 0s 80us/sample - loss: 0.2257 - accuracy: 0.9027\n",
      "Epoch 88/100\n",
      "750/750 [==============================] - 0s 79us/sample - loss: 0.2256 - accuracy: 0.9027\n",
      "Epoch 89/100\n",
      "750/750 [==============================] - 0s 70us/sample - loss: 0.2255 - accuracy: 0.9027\n",
      "Epoch 90/100\n",
      "750/750 [==============================] - 0s 69us/sample - loss: 0.2252 - accuracy: 0.9040\n",
      "Epoch 91/100\n",
      "750/750 [==============================] - 0s 79us/sample - loss: 0.2251 - accuracy: 0.9040\n",
      "Epoch 92/100\n",
      "750/750 [==============================] - 0s 74us/sample - loss: 0.2249 - accuracy: 0.9040\n",
      "Epoch 93/100\n",
      "750/750 [==============================] - 0s 77us/sample - loss: 0.2247 - accuracy: 0.9040\n",
      "Epoch 94/100\n",
      "750/750 [==============================] - 0s 75us/sample - loss: 0.2247 - accuracy: 0.9040\n",
      "Epoch 95/100\n",
      "750/750 [==============================] - 0s 70us/sample - loss: 0.2245 - accuracy: 0.9040\n",
      "Epoch 96/100\n",
      "750/750 [==============================] - 0s 75us/sample - loss: 0.2243 - accuracy: 0.9040\n",
      "Epoch 97/100\n",
      "750/750 [==============================] - 0s 82us/sample - loss: 0.2241 - accuracy: 0.9040\n",
      "Epoch 98/100\n",
      "750/750 [==============================] - 0s 83us/sample - loss: 0.2240 - accuracy: 0.9040\n",
      "Epoch 99/100\n",
      "750/750 [==============================] - 0s 68us/sample - loss: 0.2239 - accuracy: 0.9040\n",
      "Epoch 100/100\n",
      "750/750 [==============================] - 0s 78us/sample - loss: 0.2237 - accuracy: 0.9040\n"
     ]
    }
   ],
   "source": [
    "# Compile the Sequential model together and customize metrics\n",
    "new_model.compile(loss=\"binary_crossentropy\", optimizer=\"adam\", metrics=[\"accuracy\"])\n",
    "\n",
    "# Fit the model to the training data\n",
    "new_fit_model = new_model.fit(X_moon_train_scaled, y_moon_train, epochs=100, shuffle=True)"
   ]
  },
  {
   "cell_type": "code",
   "execution_count": null,
   "metadata": {},
   "outputs": [],
   "source": []
  }
 ],
 "metadata": {
  "kernelspec": {
   "display_name": "Python 3",
   "language": "python",
   "name": "python3"
  },
  "language_info": {
   "codemirror_mode": {
    "name": "ipython",
    "version": 3
   },
   "file_extension": ".py",
   "mimetype": "text/x-python",
   "name": "python",
   "nbconvert_exporter": "python",
   "pygments_lexer": "ipython3",
   "version": "3.7.6"
  }
 },
 "nbformat": 4,
 "nbformat_minor": 4
}
